{
 "cells": [
  {
   "cell_type": "code",
   "execution_count": 1,
   "id": "de2c3452",
   "metadata": {},
   "outputs": [],
   "source": [
    "import pickle\n",
    "import os\n",
    "\n",
    "pickle_off = open (\"data_dict.pickle\", \"rb\")\n",
    "celebrity_file_names_dict = pickle.load(pickle_off)"
   ]
  },
  {
   "cell_type": "code",
   "execution_count": 3,
   "id": "32fe7a68",
   "metadata": {},
   "outputs": [
    {
     "data": {
      "text/plain": [
       "{'lionel_messi': ['./dataset/cropped/lionel_messi\\\\lionel_messi1.png',\n",
       "  './dataset/cropped/lionel_messi\\\\lionel_messi10.png',\n",
       "  './dataset/cropped/lionel_messi\\\\lionel_messi11.png',\n",
       "  './dataset/cropped/lionel_messi\\\\lionel_messi12.png',\n",
       "  './dataset/cropped/lionel_messi\\\\lionel_messi13.png',\n",
       "  './dataset/cropped/lionel_messi\\\\lionel_messi14.png',\n",
       "  './dataset/cropped/lionel_messi\\\\lionel_messi15.png',\n",
       "  './dataset/cropped/lionel_messi\\\\lionel_messi16.png',\n",
       "  './dataset/cropped/lionel_messi\\\\lionel_messi17.png',\n",
       "  './dataset/cropped/lionel_messi\\\\lionel_messi18.png',\n",
       "  './dataset/cropped/lionel_messi\\\\lionel_messi19.png',\n",
       "  './dataset/cropped/lionel_messi\\\\lionel_messi2.png',\n",
       "  './dataset/cropped/lionel_messi\\\\lionel_messi20.png',\n",
       "  './dataset/cropped/lionel_messi\\\\lionel_messi21.png',\n",
       "  './dataset/cropped/lionel_messi\\\\lionel_messi22.png',\n",
       "  './dataset/cropped/lionel_messi\\\\lionel_messi23.png',\n",
       "  './dataset/cropped/lionel_messi\\\\lionel_messi24.png',\n",
       "  './dataset/cropped/lionel_messi\\\\lionel_messi25.png',\n",
       "  './dataset/cropped/lionel_messi\\\\lionel_messi26.png',\n",
       "  './dataset/cropped/lionel_messi\\\\lionel_messi27.png',\n",
       "  './dataset/cropped/lionel_messi\\\\lionel_messi28.png',\n",
       "  './dataset/cropped/lionel_messi\\\\lionel_messi3.png',\n",
       "  './dataset/cropped/lionel_messi\\\\lionel_messi4.png',\n",
       "  './dataset/cropped/lionel_messi\\\\lionel_messi5.png',\n",
       "  './dataset/cropped/lionel_messi\\\\lionel_messi6.png',\n",
       "  './dataset/cropped/lionel_messi\\\\lionel_messi7.png',\n",
       "  './dataset/cropped/lionel_messi\\\\lionel_messi8.png',\n",
       "  './dataset/cropped/lionel_messi\\\\lionel_messi9.png'],\n",
       " 'maria_sharapova': ['./dataset/cropped/maria_sharapova\\\\maria_sharapova1.png',\n",
       "  './dataset/cropped/maria_sharapova\\\\maria_sharapova10.png',\n",
       "  './dataset/cropped/maria_sharapova\\\\maria_sharapova11.png',\n",
       "  './dataset/cropped/maria_sharapova\\\\maria_sharapova12.png',\n",
       "  './dataset/cropped/maria_sharapova\\\\maria_sharapova13.png',\n",
       "  './dataset/cropped/maria_sharapova\\\\maria_sharapova14.png',\n",
       "  './dataset/cropped/maria_sharapova\\\\maria_sharapova15.png',\n",
       "  './dataset/cropped/maria_sharapova\\\\maria_sharapova16.png',\n",
       "  './dataset/cropped/maria_sharapova\\\\maria_sharapova17.png',\n",
       "  './dataset/cropped/maria_sharapova\\\\maria_sharapova18.png',\n",
       "  './dataset/cropped/maria_sharapova\\\\maria_sharapova19.png',\n",
       "  './dataset/cropped/maria_sharapova\\\\maria_sharapova2.png',\n",
       "  './dataset/cropped/maria_sharapova\\\\maria_sharapova20.png',\n",
       "  './dataset/cropped/maria_sharapova\\\\maria_sharapova21.png',\n",
       "  './dataset/cropped/maria_sharapova\\\\maria_sharapova22.png',\n",
       "  './dataset/cropped/maria_sharapova\\\\maria_sharapova23.png',\n",
       "  './dataset/cropped/maria_sharapova\\\\maria_sharapova24.png',\n",
       "  './dataset/cropped/maria_sharapova\\\\maria_sharapova25.png',\n",
       "  './dataset/cropped/maria_sharapova\\\\maria_sharapova26.png',\n",
       "  './dataset/cropped/maria_sharapova\\\\maria_sharapova27.png',\n",
       "  './dataset/cropped/maria_sharapova\\\\maria_sharapova3.png',\n",
       "  './dataset/cropped/maria_sharapova\\\\maria_sharapova4.png',\n",
       "  './dataset/cropped/maria_sharapova\\\\maria_sharapova5.png',\n",
       "  './dataset/cropped/maria_sharapova\\\\maria_sharapova6.png',\n",
       "  './dataset/cropped/maria_sharapova\\\\maria_sharapova7.png',\n",
       "  './dataset/cropped/maria_sharapova\\\\maria_sharapova8.png',\n",
       "  './dataset/cropped/maria_sharapova\\\\maria_sharapova9.png'],\n",
       " 'roger_federer': ['./dataset/cropped/roger_federer\\\\roger_federer1.png',\n",
       "  './dataset/cropped/roger_federer\\\\roger_federer10.png',\n",
       "  './dataset/cropped/roger_federer\\\\roger_federer11.png',\n",
       "  './dataset/cropped/roger_federer\\\\roger_federer12.png',\n",
       "  './dataset/cropped/roger_federer\\\\roger_federer13.png',\n",
       "  './dataset/cropped/roger_federer\\\\roger_federer14.png',\n",
       "  './dataset/cropped/roger_federer\\\\roger_federer15.png',\n",
       "  './dataset/cropped/roger_federer\\\\roger_federer2.png',\n",
       "  './dataset/cropped/roger_federer\\\\roger_federer3.png',\n",
       "  './dataset/cropped/roger_federer\\\\roger_federer4.png',\n",
       "  './dataset/cropped/roger_federer\\\\roger_federer5.png',\n",
       "  './dataset/cropped/roger_federer\\\\roger_federer6.png',\n",
       "  './dataset/cropped/roger_federer\\\\roger_federer7.png',\n",
       "  './dataset/cropped/roger_federer\\\\roger_federer8.png',\n",
       "  './dataset/cropped/roger_federer\\\\roger_federer9.png'],\n",
       " 'serena_williams': ['./dataset/cropped/serena_williams\\\\serena_williams1.png',\n",
       "  './dataset/cropped/serena_williams\\\\serena_williams10.png',\n",
       "  './dataset/cropped/serena_williams\\\\serena_williams11.png',\n",
       "  './dataset/cropped/serena_williams\\\\serena_williams12.png',\n",
       "  './dataset/cropped/serena_williams\\\\serena_williams13.png',\n",
       "  './dataset/cropped/serena_williams\\\\serena_williams14.png',\n",
       "  './dataset/cropped/serena_williams\\\\serena_williams15.png',\n",
       "  './dataset/cropped/serena_williams\\\\serena_williams16.png',\n",
       "  './dataset/cropped/serena_williams\\\\serena_williams17.png',\n",
       "  './dataset/cropped/serena_williams\\\\serena_williams18.png',\n",
       "  './dataset/cropped/serena_williams\\\\serena_williams19.png',\n",
       "  './dataset/cropped/serena_williams\\\\serena_williams2.png',\n",
       "  './dataset/cropped/serena_williams\\\\serena_williams20.png',\n",
       "  './dataset/cropped/serena_williams\\\\serena_williams21.png',\n",
       "  './dataset/cropped/serena_williams\\\\serena_williams22.png',\n",
       "  './dataset/cropped/serena_williams\\\\serena_williams23.png',\n",
       "  './dataset/cropped/serena_williams\\\\serena_williams24.png',\n",
       "  './dataset/cropped/serena_williams\\\\serena_williams25.png',\n",
       "  './dataset/cropped/serena_williams\\\\serena_williams26.png',\n",
       "  './dataset/cropped/serena_williams\\\\serena_williams27.png',\n",
       "  './dataset/cropped/serena_williams\\\\serena_williams28.png',\n",
       "  './dataset/cropped/serena_williams\\\\serena_williams3.png',\n",
       "  './dataset/cropped/serena_williams\\\\serena_williams4.png',\n",
       "  './dataset/cropped/serena_williams\\\\serena_williams5.png',\n",
       "  './dataset/cropped/serena_williams\\\\serena_williams6.png',\n",
       "  './dataset/cropped/serena_williams\\\\serena_williams7.png',\n",
       "  './dataset/cropped/serena_williams\\\\serena_williams8.png',\n",
       "  './dataset/cropped/serena_williams\\\\serena_williams9.png'],\n",
       " 'virat_kohli': ['./dataset/cropped/virat_kohli\\\\virat_kohli1.png',\n",
       "  './dataset/cropped/virat_kohli\\\\virat_kohli10.png',\n",
       "  './dataset/cropped/virat_kohli\\\\virat_kohli11.png',\n",
       "  './dataset/cropped/virat_kohli\\\\virat_kohli12.png',\n",
       "  './dataset/cropped/virat_kohli\\\\virat_kohli13.png',\n",
       "  './dataset/cropped/virat_kohli\\\\virat_kohli14.png',\n",
       "  './dataset/cropped/virat_kohli\\\\virat_kohli15.png',\n",
       "  './dataset/cropped/virat_kohli\\\\virat_kohli16.png',\n",
       "  './dataset/cropped/virat_kohli\\\\virat_kohli17.png',\n",
       "  './dataset/cropped/virat_kohli\\\\virat_kohli18.png',\n",
       "  './dataset/cropped/virat_kohli\\\\virat_kohli19.png',\n",
       "  './dataset/cropped/virat_kohli\\\\virat_kohli2.png',\n",
       "  './dataset/cropped/virat_kohli\\\\virat_kohli20.png',\n",
       "  './dataset/cropped/virat_kohli\\\\virat_kohli21.png',\n",
       "  './dataset/cropped/virat_kohli\\\\virat_kohli22.png',\n",
       "  './dataset/cropped/virat_kohli\\\\virat_kohli23.png',\n",
       "  './dataset/cropped/virat_kohli\\\\virat_kohli24.png',\n",
       "  './dataset/cropped/virat_kohli\\\\virat_kohli25.png',\n",
       "  './dataset/cropped/virat_kohli\\\\virat_kohli26.png',\n",
       "  './dataset/cropped/virat_kohli\\\\virat_kohli27.png',\n",
       "  './dataset/cropped/virat_kohli\\\\virat_kohli28.png',\n",
       "  './dataset/cropped/virat_kohli\\\\virat_kohli29.png',\n",
       "  './dataset/cropped/virat_kohli\\\\virat_kohli3.png',\n",
       "  './dataset/cropped/virat_kohli\\\\virat_kohli30.png',\n",
       "  './dataset/cropped/virat_kohli\\\\virat_kohli31.png',\n",
       "  './dataset/cropped/virat_kohli\\\\virat_kohli32.png',\n",
       "  './dataset/cropped/virat_kohli\\\\virat_kohli4.png',\n",
       "  './dataset/cropped/virat_kohli\\\\virat_kohli5.png',\n",
       "  './dataset/cropped/virat_kohli\\\\virat_kohli6.png',\n",
       "  './dataset/cropped/virat_kohli\\\\virat_kohli7.png',\n",
       "  './dataset/cropped/virat_kohli\\\\virat_kohli8.png',\n",
       "  './dataset/cropped/virat_kohli\\\\virat_kohli9.png']}"
      ]
     },
     "execution_count": 3,
     "metadata": {},
     "output_type": "execute_result"
    }
   ],
   "source": [
    "celebrity_file_names_dict"
   ]
  },
  {
   "cell_type": "code",
   "execution_count": 6,
   "id": "d99c04fa",
   "metadata": {},
   "outputs": [],
   "source": [
    "for value in celebrity_file_names_dict.values():\n",
    "    for item in value:\n",
    "        if os.path.exists(item):\n",
    "            continue\n",
    "        else:\n",
    "            value.remove(item)\n",
    "            print(item,\"Removed\")"
   ]
  },
  {
   "cell_type": "code",
   "execution_count": 7,
   "id": "c499d5f1",
   "metadata": {},
   "outputs": [
    {
     "data": {
      "text/plain": [
       "{'lionel_messi': ['./dataset/cropped/lionel_messi\\\\lionel_messi1.png',\n",
       "  './dataset/cropped/lionel_messi\\\\lionel_messi10.png',\n",
       "  './dataset/cropped/lionel_messi\\\\lionel_messi11.png',\n",
       "  './dataset/cropped/lionel_messi\\\\lionel_messi13.png',\n",
       "  './dataset/cropped/lionel_messi\\\\lionel_messi14.png',\n",
       "  './dataset/cropped/lionel_messi\\\\lionel_messi15.png',\n",
       "  './dataset/cropped/lionel_messi\\\\lionel_messi16.png',\n",
       "  './dataset/cropped/lionel_messi\\\\lionel_messi17.png',\n",
       "  './dataset/cropped/lionel_messi\\\\lionel_messi18.png',\n",
       "  './dataset/cropped/lionel_messi\\\\lionel_messi19.png',\n",
       "  './dataset/cropped/lionel_messi\\\\lionel_messi2.png',\n",
       "  './dataset/cropped/lionel_messi\\\\lionel_messi20.png',\n",
       "  './dataset/cropped/lionel_messi\\\\lionel_messi22.png',\n",
       "  './dataset/cropped/lionel_messi\\\\lionel_messi23.png',\n",
       "  './dataset/cropped/lionel_messi\\\\lionel_messi24.png',\n",
       "  './dataset/cropped/lionel_messi\\\\lionel_messi25.png',\n",
       "  './dataset/cropped/lionel_messi\\\\lionel_messi26.png',\n",
       "  './dataset/cropped/lionel_messi\\\\lionel_messi27.png',\n",
       "  './dataset/cropped/lionel_messi\\\\lionel_messi28.png',\n",
       "  './dataset/cropped/lionel_messi\\\\lionel_messi3.png',\n",
       "  './dataset/cropped/lionel_messi\\\\lionel_messi4.png',\n",
       "  './dataset/cropped/lionel_messi\\\\lionel_messi5.png',\n",
       "  './dataset/cropped/lionel_messi\\\\lionel_messi6.png',\n",
       "  './dataset/cropped/lionel_messi\\\\lionel_messi7.png',\n",
       "  './dataset/cropped/lionel_messi\\\\lionel_messi8.png',\n",
       "  './dataset/cropped/lionel_messi\\\\lionel_messi9.png'],\n",
       " 'maria_sharapova': ['./dataset/cropped/maria_sharapova\\\\maria_sharapova10.png',\n",
       "  './dataset/cropped/maria_sharapova\\\\maria_sharapova11.png',\n",
       "  './dataset/cropped/maria_sharapova\\\\maria_sharapova13.png',\n",
       "  './dataset/cropped/maria_sharapova\\\\maria_sharapova14.png',\n",
       "  './dataset/cropped/maria_sharapova\\\\maria_sharapova15.png',\n",
       "  './dataset/cropped/maria_sharapova\\\\maria_sharapova16.png',\n",
       "  './dataset/cropped/maria_sharapova\\\\maria_sharapova17.png',\n",
       "  './dataset/cropped/maria_sharapova\\\\maria_sharapova18.png',\n",
       "  './dataset/cropped/maria_sharapova\\\\maria_sharapova19.png',\n",
       "  './dataset/cropped/maria_sharapova\\\\maria_sharapova2.png',\n",
       "  './dataset/cropped/maria_sharapova\\\\maria_sharapova20.png',\n",
       "  './dataset/cropped/maria_sharapova\\\\maria_sharapova21.png',\n",
       "  './dataset/cropped/maria_sharapova\\\\maria_sharapova22.png',\n",
       "  './dataset/cropped/maria_sharapova\\\\maria_sharapova23.png',\n",
       "  './dataset/cropped/maria_sharapova\\\\maria_sharapova24.png',\n",
       "  './dataset/cropped/maria_sharapova\\\\maria_sharapova25.png',\n",
       "  './dataset/cropped/maria_sharapova\\\\maria_sharapova26.png',\n",
       "  './dataset/cropped/maria_sharapova\\\\maria_sharapova27.png',\n",
       "  './dataset/cropped/maria_sharapova\\\\maria_sharapova4.png',\n",
       "  './dataset/cropped/maria_sharapova\\\\maria_sharapova5.png',\n",
       "  './dataset/cropped/maria_sharapova\\\\maria_sharapova6.png',\n",
       "  './dataset/cropped/maria_sharapova\\\\maria_sharapova7.png',\n",
       "  './dataset/cropped/maria_sharapova\\\\maria_sharapova8.png',\n",
       "  './dataset/cropped/maria_sharapova\\\\maria_sharapova9.png'],\n",
       " 'roger_federer': ['./dataset/cropped/roger_federer\\\\roger_federer1.png',\n",
       "  './dataset/cropped/roger_federer\\\\roger_federer10.png',\n",
       "  './dataset/cropped/roger_federer\\\\roger_federer11.png',\n",
       "  './dataset/cropped/roger_federer\\\\roger_federer12.png',\n",
       "  './dataset/cropped/roger_federer\\\\roger_federer13.png',\n",
       "  './dataset/cropped/roger_federer\\\\roger_federer14.png',\n",
       "  './dataset/cropped/roger_federer\\\\roger_federer15.png',\n",
       "  './dataset/cropped/roger_federer\\\\roger_federer2.png',\n",
       "  './dataset/cropped/roger_federer\\\\roger_federer3.png',\n",
       "  './dataset/cropped/roger_federer\\\\roger_federer4.png',\n",
       "  './dataset/cropped/roger_federer\\\\roger_federer5.png',\n",
       "  './dataset/cropped/roger_federer\\\\roger_federer6.png',\n",
       "  './dataset/cropped/roger_federer\\\\roger_federer7.png',\n",
       "  './dataset/cropped/roger_federer\\\\roger_federer8.png',\n",
       "  './dataset/cropped/roger_federer\\\\roger_federer9.png'],\n",
       " 'serena_williams': ['./dataset/cropped/serena_williams\\\\serena_williams10.png',\n",
       "  './dataset/cropped/serena_williams\\\\serena_williams12.png',\n",
       "  './dataset/cropped/serena_williams\\\\serena_williams13.png',\n",
       "  './dataset/cropped/serena_williams\\\\serena_williams14.png',\n",
       "  './dataset/cropped/serena_williams\\\\serena_williams15.png',\n",
       "  './dataset/cropped/serena_williams\\\\serena_williams16.png',\n",
       "  './dataset/cropped/serena_williams\\\\serena_williams17.png',\n",
       "  './dataset/cropped/serena_williams\\\\serena_williams2.png',\n",
       "  './dataset/cropped/serena_williams\\\\serena_williams20.png',\n",
       "  './dataset/cropped/serena_williams\\\\serena_williams22.png',\n",
       "  './dataset/cropped/serena_williams\\\\serena_williams23.png',\n",
       "  './dataset/cropped/serena_williams\\\\serena_williams24.png',\n",
       "  './dataset/cropped/serena_williams\\\\serena_williams26.png',\n",
       "  './dataset/cropped/serena_williams\\\\serena_williams27.png',\n",
       "  './dataset/cropped/serena_williams\\\\serena_williams28.png',\n",
       "  './dataset/cropped/serena_williams\\\\serena_williams3.png',\n",
       "  './dataset/cropped/serena_williams\\\\serena_williams4.png',\n",
       "  './dataset/cropped/serena_williams\\\\serena_williams6.png',\n",
       "  './dataset/cropped/serena_williams\\\\serena_williams7.png',\n",
       "  './dataset/cropped/serena_williams\\\\serena_williams8.png',\n",
       "  './dataset/cropped/serena_williams\\\\serena_williams9.png'],\n",
       " 'virat_kohli': ['./dataset/cropped/virat_kohli\\\\virat_kohli1.png',\n",
       "  './dataset/cropped/virat_kohli\\\\virat_kohli10.png',\n",
       "  './dataset/cropped/virat_kohli\\\\virat_kohli11.png',\n",
       "  './dataset/cropped/virat_kohli\\\\virat_kohli12.png',\n",
       "  './dataset/cropped/virat_kohli\\\\virat_kohli13.png',\n",
       "  './dataset/cropped/virat_kohli\\\\virat_kohli14.png',\n",
       "  './dataset/cropped/virat_kohli\\\\virat_kohli15.png',\n",
       "  './dataset/cropped/virat_kohli\\\\virat_kohli16.png',\n",
       "  './dataset/cropped/virat_kohli\\\\virat_kohli17.png',\n",
       "  './dataset/cropped/virat_kohli\\\\virat_kohli18.png',\n",
       "  './dataset/cropped/virat_kohli\\\\virat_kohli19.png',\n",
       "  './dataset/cropped/virat_kohli\\\\virat_kohli2.png',\n",
       "  './dataset/cropped/virat_kohli\\\\virat_kohli20.png',\n",
       "  './dataset/cropped/virat_kohli\\\\virat_kohli21.png',\n",
       "  './dataset/cropped/virat_kohli\\\\virat_kohli23.png',\n",
       "  './dataset/cropped/virat_kohli\\\\virat_kohli25.png',\n",
       "  './dataset/cropped/virat_kohli\\\\virat_kohli26.png',\n",
       "  './dataset/cropped/virat_kohli\\\\virat_kohli27.png',\n",
       "  './dataset/cropped/virat_kohli\\\\virat_kohli28.png',\n",
       "  './dataset/cropped/virat_kohli\\\\virat_kohli30.png',\n",
       "  './dataset/cropped/virat_kohli\\\\virat_kohli31.png',\n",
       "  './dataset/cropped/virat_kohli\\\\virat_kohli32.png',\n",
       "  './dataset/cropped/virat_kohli\\\\virat_kohli4.png',\n",
       "  './dataset/cropped/virat_kohli\\\\virat_kohli5.png',\n",
       "  './dataset/cropped/virat_kohli\\\\virat_kohli6.png',\n",
       "  './dataset/cropped/virat_kohli\\\\virat_kohli7.png',\n",
       "  './dataset/cropped/virat_kohli\\\\virat_kohli8.png',\n",
       "  './dataset/cropped/virat_kohli\\\\virat_kohli9.png']}"
      ]
     },
     "execution_count": 7,
     "metadata": {},
     "output_type": "execute_result"
    }
   ],
   "source": [
    "celebrity_file_names_dict"
   ]
  },
  {
   "cell_type": "code",
   "execution_count": 8,
   "id": "1d1053d1",
   "metadata": {},
   "outputs": [
    {
     "data": {
      "text/plain": [
       "{'lionel_messi': 0,\n",
       " 'maria_sharapova': 1,\n",
       " 'roger_federer': 2,\n",
       " 'serena_williams': 3,\n",
       " 'virat_kohli': 4}"
      ]
     },
     "execution_count": 8,
     "metadata": {},
     "output_type": "execute_result"
    }
   ],
   "source": [
    "class_dict = {}\n",
    "count = 0\n",
    "for celebrity_name in celebrity_file_names_dict.keys():\n",
    "    class_dict[celebrity_name] = count\n",
    "    count = count + 1\n",
    "class_dict"
   ]
  },
  {
   "cell_type": "code",
   "execution_count": 9,
   "id": "a68799b3",
   "metadata": {},
   "outputs": [],
   "source": [
    "import cv2\n",
    "import numpy as np\n",
    "import pywt  \n",
    "\n",
    "def w2d(img, mode='haar', level=1):\n",
    "    imArray = img\n",
    "    #Datatype conversions\n",
    "    #convert to grayscale\n",
    "    imArray = cv2.cvtColor( imArray,cv2.COLOR_RGB2GRAY )\n",
    "    #convert to float\n",
    "    imArray =  np.float32(imArray)   \n",
    "    imArray /= 255;\n",
    "    # compute coefficients \n",
    "    coeffs=pywt.wavedec2(imArray, mode, level=level)\n",
    "\n",
    "    #Process Coefficients\n",
    "    coeffs_H=list(coeffs)  \n",
    "    coeffs_H[0] *= 0;  \n",
    "\n",
    "    # reconstruction\n",
    "    imArray_H=pywt.waverec2(coeffs_H, mode);\n",
    "    imArray_H *= 255;\n",
    "    imArray_H =  np.uint8(imArray_H)\n",
    "\n",
    "    return imArray_H"
   ]
  },
  {
   "cell_type": "code",
   "execution_count": 10,
   "id": "028474a4",
   "metadata": {},
   "outputs": [],
   "source": [
    "X, y = [], []\n",
    "for celebrity_name, training_files in celebrity_file_names_dict.items():\n",
    "    for training_image in training_files:\n",
    "        img = cv2.imread(training_image)\n",
    "        scalled_raw_img = cv2.resize(img, (32, 32))\n",
    "        img_har = w2d(img,'db1',5)\n",
    "        scalled_img_har = cv2.resize(img_har, (32, 32))\n",
    "        combined_img = np.vstack((scalled_raw_img.reshape(32*32*3,1),scalled_img_har.reshape(32*32,1)))\n",
    "        X.append(combined_img)\n",
    "        y.append(class_dict[celebrity_name])"
   ]
  },
  {
   "cell_type": "code",
   "execution_count": 11,
   "id": "e7c0cd43",
   "metadata": {},
   "outputs": [
    {
     "data": {
      "text/plain": [
       "4096"
      ]
     },
     "execution_count": 11,
     "metadata": {},
     "output_type": "execute_result"
    }
   ],
   "source": [
    "len(X[0])"
   ]
  },
  {
   "cell_type": "code",
   "execution_count": 12,
   "id": "57ee75f1",
   "metadata": {},
   "outputs": [
    {
     "data": {
      "text/plain": [
       "(114, 4096)"
      ]
     },
     "execution_count": 12,
     "metadata": {},
     "output_type": "execute_result"
    }
   ],
   "source": [
    "X = np.array(X).reshape(len(X),4096).astype(float)\n",
    "X.shape"
   ]
  },
  {
   "cell_type": "code",
   "execution_count": 13,
   "id": "6c2c644e",
   "metadata": {},
   "outputs": [
    {
     "data": {
      "text/plain": [
       "114"
      ]
     },
     "execution_count": 13,
     "metadata": {},
     "output_type": "execute_result"
    }
   ],
   "source": [
    "len(y)"
   ]
  },
  {
   "cell_type": "code",
   "execution_count": 14,
   "id": "4740a1f5",
   "metadata": {},
   "outputs": [
    {
     "data": {
      "text/plain": [
       "114"
      ]
     },
     "execution_count": 14,
     "metadata": {},
     "output_type": "execute_result"
    }
   ],
   "source": [
    "len(X)"
   ]
  },
  {
   "cell_type": "markdown",
   "id": "d701e00d",
   "metadata": {},
   "source": [
    "Data cleaning process is done. Now we are ready to train our model"
   ]
  },
  {
   "cell_type": "code",
   "execution_count": 15,
   "id": "44ae19f1",
   "metadata": {},
   "outputs": [],
   "source": [
    "from sklearn.svm import SVC\n",
    "from sklearn.preprocessing import StandardScaler\n",
    "from sklearn.model_selection import train_test_split\n",
    "from sklearn.pipeline import Pipeline\n",
    "from sklearn.metrics import classification_report"
   ]
  },
  {
   "cell_type": "code",
   "execution_count": 16,
   "id": "c2f24716",
   "metadata": {},
   "outputs": [
    {
     "data": {
      "text/plain": [
       "0.8275862068965517"
      ]
     },
     "execution_count": 16,
     "metadata": {},
     "output_type": "execute_result"
    }
   ],
   "source": [
    "X_train, X_test, y_train, y_test = train_test_split(X, y, random_state=0)\n",
    "\n",
    "pipe = Pipeline([('scaler', StandardScaler()), ('svc', SVC(kernel = 'rbf', C = 10))])\n",
    "pipe.fit(X_train, y_train)\n",
    "pipe.score(X_test, y_test)"
   ]
  },
  {
   "cell_type": "code",
   "execution_count": 17,
   "id": "d8c35fe3",
   "metadata": {},
   "outputs": [
    {
     "name": "stdout",
     "output_type": "stream",
     "text": [
      "              precision    recall  f1-score   support\n",
      "\n",
      "           0       0.86      0.75      0.80         8\n",
      "           1       0.67      1.00      0.80         4\n",
      "           2       1.00      0.33      0.50         3\n",
      "           3       0.80      0.80      0.80         5\n",
      "           4       0.90      1.00      0.95         9\n",
      "\n",
      "    accuracy                           0.83        29\n",
      "   macro avg       0.84      0.78      0.77        29\n",
      "weighted avg       0.85      0.83      0.81        29\n",
      "\n"
     ]
    }
   ],
   "source": [
    "print(classification_report(y_test, pipe.predict(X_test)))"
   ]
  },
  {
   "cell_type": "markdown",
   "id": "785e6847",
   "metadata": {},
   "source": [
    "Let's use GridSearch to try out different models with different paramets. Goal is to come up with best modle with best fine tuned parameters"
   ]
  },
  {
   "cell_type": "code",
   "execution_count": 18,
   "id": "fb6adf99",
   "metadata": {},
   "outputs": [],
   "source": [
    "from sklearn import svm\n",
    "from sklearn.ensemble import RandomForestClassifier\n",
    "from sklearn.linear_model import LogisticRegression\n",
    "from sklearn.pipeline import make_pipeline\n",
    "from sklearn.model_selection import GridSearchCV"
   ]
  },
  {
   "cell_type": "code",
   "execution_count": 19,
   "id": "3b2eec3e",
   "metadata": {},
   "outputs": [],
   "source": [
    "model_params = {\n",
    "    'svm': {\n",
    "        'model': svm.SVC(gamma='auto',probability=True),\n",
    "        'params' : {\n",
    "            'svc__C': [1,10,100,1000],\n",
    "            'svc__kernel': ['rbf','linear']\n",
    "        }  \n",
    "    },\n",
    "    'random_forest': {\n",
    "        'model': RandomForestClassifier(),\n",
    "        'params' : {\n",
    "            'randomforestclassifier__n_estimators': [1,5,10]\n",
    "        }\n",
    "    },\n",
    "    'logistic_regression' : {\n",
    "        'model': LogisticRegression(solver='liblinear',multi_class='auto'),\n",
    "        'params': {\n",
    "            'logisticregression__C': [1,5,10]\n",
    "        }\n",
    "    }\n",
    "}"
   ]
  },
  {
   "cell_type": "code",
   "execution_count": 21,
   "id": "a0ea8dcf",
   "metadata": {},
   "outputs": [
    {
     "data": {
      "text/html": [
       "<div>\n",
       "<style scoped>\n",
       "    .dataframe tbody tr th:only-of-type {\n",
       "        vertical-align: middle;\n",
       "    }\n",
       "\n",
       "    .dataframe tbody tr th {\n",
       "        vertical-align: top;\n",
       "    }\n",
       "\n",
       "    .dataframe thead th {\n",
       "        text-align: right;\n",
       "    }\n",
       "</style>\n",
       "<table border=\"1\" class=\"dataframe\">\n",
       "  <thead>\n",
       "    <tr style=\"text-align: right;\">\n",
       "      <th></th>\n",
       "      <th>model</th>\n",
       "      <th>best_score</th>\n",
       "      <th>best_params</th>\n",
       "    </tr>\n",
       "  </thead>\n",
       "  <tbody>\n",
       "    <tr>\n",
       "      <th>0</th>\n",
       "      <td>svm</td>\n",
       "      <td>0.764706</td>\n",
       "      <td>{'svc__C': 1, 'svc__kernel': 'linear'}</td>\n",
       "    </tr>\n",
       "    <tr>\n",
       "      <th>1</th>\n",
       "      <td>random_forest</td>\n",
       "      <td>0.658824</td>\n",
       "      <td>{'randomforestclassifier__n_estimators': 10}</td>\n",
       "    </tr>\n",
       "    <tr>\n",
       "      <th>2</th>\n",
       "      <td>logistic_regression</td>\n",
       "      <td>0.800000</td>\n",
       "      <td>{'logisticregression__C': 1}</td>\n",
       "    </tr>\n",
       "  </tbody>\n",
       "</table>\n",
       "</div>"
      ],
      "text/plain": [
       "                 model  best_score  \\\n",
       "0                  svm    0.764706   \n",
       "1        random_forest    0.658824   \n",
       "2  logistic_regression    0.800000   \n",
       "\n",
       "                                    best_params  \n",
       "0        {'svc__C': 1, 'svc__kernel': 'linear'}  \n",
       "1  {'randomforestclassifier__n_estimators': 10}  \n",
       "2                  {'logisticregression__C': 1}  "
      ]
     },
     "execution_count": 21,
     "metadata": {},
     "output_type": "execute_result"
    }
   ],
   "source": [
    "scores = []\n",
    "best_estimators = {}\n",
    "import pandas as pd\n",
    "for algo, mp in model_params.items():\n",
    "    pipe = make_pipeline(StandardScaler(), mp['model'])\n",
    "    clf =  GridSearchCV(pipe, mp['params'], cv=5, return_train_score=False)\n",
    "    clf.fit(X_train, y_train)\n",
    "    scores.append({\n",
    "        'model': algo,\n",
    "        'best_score': clf.best_score_,\n",
    "        'best_params': clf.best_params_\n",
    "    })\n",
    "    best_estimators[algo] = clf.best_estimator_\n",
    "    \n",
    "df = pd.DataFrame(scores,columns=['model','best_score','best_params'])\n",
    "df"
   ]
  },
  {
   "cell_type": "code",
   "execution_count": 22,
   "id": "45de3090",
   "metadata": {},
   "outputs": [
    {
     "data": {
      "text/plain": [
       "{'svm': Pipeline(steps=[('standardscaler', StandardScaler()),\n",
       "                 ('svc',\n",
       "                  SVC(C=1, gamma='auto', kernel='linear', probability=True))]),\n",
       " 'random_forest': Pipeline(steps=[('standardscaler', StandardScaler()),\n",
       "                 ('randomforestclassifier',\n",
       "                  RandomForestClassifier(n_estimators=10))]),\n",
       " 'logistic_regression': Pipeline(steps=[('standardscaler', StandardScaler()),\n",
       "                 ('logisticregression',\n",
       "                  LogisticRegression(C=1, solver='liblinear'))])}"
      ]
     },
     "execution_count": 22,
     "metadata": {},
     "output_type": "execute_result"
    }
   ],
   "source": [
    "best_estimators"
   ]
  },
  {
   "cell_type": "code",
   "execution_count": 23,
   "id": "e79b94e2",
   "metadata": {},
   "outputs": [
    {
     "data": {
      "text/plain": [
       "0.9310344827586207"
      ]
     },
     "execution_count": 23,
     "metadata": {},
     "output_type": "execute_result"
    }
   ],
   "source": [
    "best_estimators['svm'].score(X_test,y_test)"
   ]
  },
  {
   "cell_type": "code",
   "execution_count": 24,
   "id": "1e902fd9",
   "metadata": {},
   "outputs": [
    {
     "data": {
      "text/plain": [
       "0.7586206896551724"
      ]
     },
     "execution_count": 24,
     "metadata": {},
     "output_type": "execute_result"
    }
   ],
   "source": [
    "best_estimators['random_forest'].score(X_test,y_test)"
   ]
  },
  {
   "cell_type": "code",
   "execution_count": 25,
   "id": "048fd6e6",
   "metadata": {},
   "outputs": [
    {
     "data": {
      "text/plain": [
       "1.0"
      ]
     },
     "execution_count": 25,
     "metadata": {},
     "output_type": "execute_result"
    }
   ],
   "source": [
    "best_estimators['logistic_regression'].score(X_test,y_test)"
   ]
  },
  {
   "cell_type": "code",
   "execution_count": 26,
   "id": "0bd32c37",
   "metadata": {},
   "outputs": [
    {
     "data": {
      "text/plain": [
       "0.841501976284585"
      ]
     },
     "execution_count": 26,
     "metadata": {},
     "output_type": "execute_result"
    }
   ],
   "source": [
    "from sklearn.model_selection import cross_val_score\n",
    "\n",
    "cross_val_score(best_estimators[\"svm\"],X,y).mean()"
   ]
  },
  {
   "cell_type": "code",
   "execution_count": 27,
   "id": "b601d843",
   "metadata": {},
   "outputs": [
    {
     "data": {
      "text/plain": [
       "0.842292490118577"
      ]
     },
     "execution_count": 27,
     "metadata": {},
     "output_type": "execute_result"
    }
   ],
   "source": [
    "cross_val_score(best_estimators[\"logistic_regression\"],X,y).mean()"
   ]
  },
  {
   "cell_type": "code",
   "execution_count": 28,
   "id": "f993e0b3",
   "metadata": {},
   "outputs": [],
   "source": [
    "best_clf = best_estimators['logistic_regression']"
   ]
  },
  {
   "cell_type": "code",
   "execution_count": 29,
   "id": "12ea5406",
   "metadata": {},
   "outputs": [
    {
     "data": {
      "text/plain": [
       "array([[8, 0, 0, 0, 0],\n",
       "       [0, 4, 0, 0, 0],\n",
       "       [0, 0, 3, 0, 0],\n",
       "       [0, 0, 0, 5, 0],\n",
       "       [0, 0, 0, 0, 9]], dtype=int64)"
      ]
     },
     "execution_count": 29,
     "metadata": {},
     "output_type": "execute_result"
    }
   ],
   "source": [
    "from sklearn.metrics import confusion_matrix\n",
    "cm = confusion_matrix(y_test, best_clf.predict(X_test))\n",
    "cm"
   ]
  },
  {
   "cell_type": "code",
   "execution_count": 30,
   "id": "1f524165",
   "metadata": {},
   "outputs": [
    {
     "data": {
      "text/plain": [
       "Text(95.72222222222221, 0.5, 'Truth')"
      ]
     },
     "execution_count": 30,
     "metadata": {},
     "output_type": "execute_result"
    },
    {
     "data": {
      "image/png": "[encoded data removed]",
      "text/plain": [
       "<Figure size 1000x700 with 2 Axes>"
      ]
     },
     "metadata": {},
     "output_type": "display_data"
    }
   ],
   "source": [
    "import seaborn as sn\n",
    "import matplotlib.pyplot as plt\n",
    "\n",
    "plt.figure(figsize = (10,7))\n",
    "sn.heatmap(cm, annot=True)\n",
    "plt.xlabel('Predicted')\n",
    "plt.ylabel('Truth')"
   ]
  },
  {
   "cell_type": "code",
   "execution_count": 31,
   "id": "51dee59c",
   "metadata": {},
   "outputs": [],
   "source": [
    "second_best_clf = best_estimators['svm']"
   ]
  },
  {
   "cell_type": "code",
   "execution_count": 32,
   "id": "d916a9b6",
   "metadata": {},
   "outputs": [
    {
     "data": {
      "text/plain": [
       "array([[7, 1, 0, 0, 0],\n",
       "       [0, 4, 0, 0, 0],\n",
       "       [0, 0, 3, 0, 0],\n",
       "       [0, 1, 0, 4, 0],\n",
       "       [0, 0, 0, 0, 9]], dtype=int64)"
      ]
     },
     "execution_count": 32,
     "metadata": {},
     "output_type": "execute_result"
    }
   ],
   "source": [
    "from sklearn.metrics import confusion_matrix\n",
    "cj = confusion_matrix(y_test, second_best_clf.predict(X_test))\n",
    "cj"
   ]
  },
  {
   "cell_type": "code",
   "execution_count": 33,
   "id": "d939d57d",
   "metadata": {},
   "outputs": [
    {
     "data": {
      "text/plain": [
       "Text(95.72222222222221, 0.5, 'Truth')"
      ]
     },
     "execution_count": 33,
     "metadata": {},
     "output_type": "execute_result"
    },
    {
     "data": {
      "image/png": "[encoded data removed]",
      "text/plain": [
       "<Figure size 1000x700 with 2 Axes>"
      ]
     },
     "metadata": {},
     "output_type": "display_data"
    }
   ],
   "source": [
    "plt.figure(figsize = (10,7))\n",
    "sn.heatmap(cj, annot=True)\n",
    "plt.xlabel('Predicted')\n",
    "plt.ylabel('Truth')"
   ]
  },
  {
   "cell_type": "markdown",
   "id": "9338fa8b",
   "metadata": {},
   "source": [
    "we will take logistic regression"
   ]
  },
  {
   "cell_type": "code",
   "execution_count": 34,
   "id": "e1d54e0c",
   "metadata": {},
   "outputs": [
    {
     "data": {
      "text/plain": [
       "['saved_model.pkl']"
      ]
     },
     "execution_count": 34,
     "metadata": {},
     "output_type": "execute_result"
    }
   ],
   "source": [
    "import joblib \n",
    "# Save the model as a pickle in a file \n",
    "joblib.dump(best_clf, 'saved_model.pkl') "
   ]
  },
  {
   "cell_type": "code",
   "execution_count": 35,
   "id": "9f8e3cf3",
   "metadata": {},
   "outputs": [
    {
     "data": {
      "text/plain": [
       "{'lionel_messi': 0,\n",
       " 'maria_sharapova': 1,\n",
       " 'roger_federer': 2,\n",
       " 'serena_williams': 3,\n",
       " 'virat_kohli': 4}"
      ]
     },
     "execution_count": 35,
     "metadata": {},
     "output_type": "execute_result"
    }
   ],
   "source": [
    "class_dict"
   ]
  },
  {
   "cell_type": "code",
   "execution_count": 36,
   "id": "c145598f",
   "metadata": {},
   "outputs": [],
   "source": [
    "import json\n",
    "with open(\"class_dictionary.json\",\"w\") as f:\n",
    "    f.write(json.dumps(class_dict))"
   ]
  },
  {
   "cell_type": "code",
   "execution_count": null,
   "id": "4e23ee62",
   "metadata": {},
   "outputs": [],
   "source": []
  }
 ],
 "metadata": {
  "kernelspec": {
   "display_name": "Python 3 (ipykernel)",
   "language": "python",
   "name": "python3"
  },
  "language_info": {
   "codemirror_mode": {
    "name": "ipython",
    "version": 3
   },
   "file_extension": ".py",
   "mimetype": "text/x-python",
   "name": "python",
   "nbconvert_exporter": "python",
   "pygments_lexer": "ipython3",
   "version": "3.10.7"
  }
 },
 "nbformat": 4,
 "nbformat_minor": 5
}
